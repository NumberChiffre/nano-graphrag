{
 "cells": [
  {
   "cell_type": "code",
   "execution_count": 19,
   "metadata": {},
   "outputs": [],
   "source": [
    "import nest_asyncio\n",
    "nest_asyncio.apply()"
   ]
  },
  {
   "cell_type": "code",
   "execution_count": 37,
   "metadata": {},
   "outputs": [],
   "source": [
    "import dspy\n",
    "from dspy.teleprompt.random_search import BootstrapFewShotWithRandomSearch\n",
    "from dspy.teleprompt.mipro_optimizer_v2 import MIPROv2\n",
    "from dspy.evaluate import Evaluate\n",
    "import asyncio\n",
    "import os\n",
    "import numpy as np\n",
    "from dotenv import load_dotenv\n",
    "from datasets import load_dataset\n",
    "import logging\n",
    "import pickle\n",
    "\n",
    "from nano_graphrag._utils import compute_mdhash_id\n",
    "from nano_graphrag.entity_extraction.extract import generate_dataset\n",
    "from nano_graphrag.entity_extraction.module import EntityRelationshipExtractor\n",
    "from nano_graphrag.entity_extraction.metric import relationship_similarity_metric, entity_recall_metric"
   ]
  },
  {
   "cell_type": "code",
   "execution_count": 21,
   "metadata": {},
   "outputs": [],
   "source": [
    "WORKING_DIR = \"./nano_graphrag_cache_finetune_entity_relationship_dspy\"\n",
    "\n",
    "load_dotenv()\n",
    "\n",
    "logging.basicConfig(level=logging.WARNING)\n",
    "logging.getLogger(\"nano-graphrag\").setLevel(logging.DEBUG)\n",
    "\n",
    "np.random.seed(1337)"
   ]
  },
  {
   "cell_type": "code",
   "execution_count": 22,
   "metadata": {},
   "outputs": [],
   "source": [
    "system_prompt = \"\"\"\n",
    "    You are a world-class AI system, capable of complex reasoning and reflection. \n",
    "    Reason through the query, and then provide your final response. \n",
    "    If you detect that you made a mistake in your reasoning at any point, correct yourself.\n",
    "    Think carefully.\n",
    "\"\"\"\n",
    "lm = dspy.OpenAI(\n",
    "    model=\"deepseek-chat\", \n",
    "    model_type=\"chat\", \n",
    "    api_key=os.environ[\"DEEPSEEK_API_KEY\"], \n",
    "    base_url=os.environ[\"DEEPSEEK_BASE_URL\"], \n",
    "    system_prompt=system_prompt, \n",
    "    temperature=1.0,\n",
    "    top_p=1.0,\n",
    "    max_tokens=4096\n",
    ")\n",
    "llama_lm = dspy.OllamaLocal(\n",
    "    model=\"llama3.1\", \n",
    "    model_type=\"chat\",\n",
    "    system=system_prompt,\n",
    "    max_tokens=4096\n",
    ")\n",
    "dspy.settings.configure(lm=lm)"
   ]
  },
  {
   "cell_type": "code",
   "execution_count": 23,
   "metadata": {},
   "outputs": [
    {
     "name": "stderr",
     "output_type": "stream",
     "text": [
      "/opt/homebrew/Caskroom/miniconda/base/envs/nano-graphrag/lib/python3.10/site-packages/datasets/table.py:1421: FutureWarning: promote has been superseded by promote_options='default'.\n",
      "  table = cls._concat_blocks(blocks, axis=0)\n"
     ]
    }
   ],
   "source": [
    "os.makedirs(WORKING_DIR, exist_ok=True)\n",
    "train_len = 20\n",
    "val_len = 2\n",
    "dev_len = 3\n",
    "entity_relationship_trainset_path = os.path.join(WORKING_DIR, \"entity_relationship_extraction_news_trainset.pkl\")\n",
    "entity_relationship_valset_path = os.path.join(WORKING_DIR, \"entity_relationship_extraction_news_valset.pkl\")\n",
    "entity_relationship_devset_path = os.path.join(WORKING_DIR, \"entity_relationship_extraction_news_devset.pkl\")\n",
    "entity_relationship_module_path = os.path.join(WORKING_DIR, \"entity_relationship_extraction_news.json\")\n",
    "fin_news = load_dataset(\"ashraq/financial-news-articles\")\n",
    "cnn_news = load_dataset(\"AyoubChLin/CNN_News_Articles_2011-2022\")\n",
    "fin_shuffled_indices = np.random.permutation(len(fin_news['train']))\n",
    "cnn_train_shuffled_indices = np.random.permutation(len(cnn_news['train']))\n",
    "cnn_test_shuffled_indices = np.random.permutation(len(cnn_news['test']))\n",
    "train_data = cnn_news['train'].select(cnn_train_shuffled_indices[:train_len])\n",
    "val_data = cnn_news['test'].select(cnn_test_shuffled_indices[:val_len])\n",
    "dev_data = fin_news['train'].select(fin_shuffled_indices[:dev_len])"
   ]
  },
  {
   "cell_type": "code",
   "execution_count": null,
   "metadata": {},
   "outputs": [],
   "source": [
    "train_data['text'][:2]"
   ]
  },
  {
   "cell_type": "code",
   "execution_count": null,
   "metadata": {},
   "outputs": [],
   "source": [
    "val_data['text']"
   ]
  },
  {
   "cell_type": "code",
   "execution_count": null,
   "metadata": {},
   "outputs": [],
   "source": [
    "dev_data['text'][:2]"
   ]
  },
  {
   "cell_type": "code",
   "execution_count": 32,
   "metadata": {},
   "outputs": [
    {
     "name": "stderr",
     "output_type": "stream",
     "text": [
      "DEBUG:nano-graphrag:Entities: 17 | Missed Entities: 15 | Total Entities: 32\n",
      "DEBUG:nano-graphrag:Entities: 9 | Missed Entities: 7 | Total Entities: 16\n",
      "DEBUG:nano-graphrag:Entities: 27 | Missed Entities: 21 | Total Entities: 48\n",
      "DEBUG:nano-graphrag:Entities: 18 | Missed Entities: 10 | Total Entities: 28\n",
      "DEBUG:nano-graphrag:Entities: 9 | Missed Entities: 9 | Total Entities: 18\n",
      "DEBUG:nano-graphrag:Entities: 13 | Missed Entities: 6 | Total Entities: 19\n",
      "DEBUG:nano-graphrag:Entities: 14 | Missed Entities: 7 | Total Entities: 21\n",
      "DEBUG:nano-graphrag:Entities: 8 | Missed Entities: 10 | Total Entities: 18\n",
      "DEBUG:nano-graphrag:Entities: 28 | Missed Entities: 6 | Total Entities: 34\n",
      "DEBUG:nano-graphrag:Entities: 13 | Missed Entities: 5 | Total Entities: 18\n",
      "DEBUG:nano-graphrag:Entities: 15 | Missed Entities: 8 | Total Entities: 23\n",
      "DEBUG:nano-graphrag:Entities: 14 | Missed Entities: 5 | Total Entities: 19\n",
      "DEBUG:nano-graphrag:Entities: 21 | Missed Entities: 5 | Total Entities: 26\n",
      "DEBUG:nano-graphrag:Entities: 11 | Missed Entities: 6 | Total Entities: 17\n",
      "DEBUG:nano-graphrag:Entities: 16 | Missed Entities: 9 | Total Entities: 25\n",
      "DEBUG:nano-graphrag:Entities: 25 | Missed Entities: 10 | Total Entities: 35\n",
      "DEBUG:nano-graphrag:Relationships: 27 | Missed Relationships: 22 | Total Relationships: 49\n",
      "DEBUG:nano-graphrag:Relationships: 11 | Missed Relationships: 9 | Total Relationships: 20\n",
      "DEBUG:nano-graphrag:Relationships: 18 | Missed Relationships: 20 | Total Relationships: 38\n",
      "DEBUG:nano-graphrag:Relationships: 15 | Missed Relationships: 7 | Total Relationships: 22\n",
      "DEBUG:nano-graphrag:Relationships: 12 | Missed Relationships: 10 | Total Relationships: 22\n",
      "DEBUG:nano-graphrag:Relationships: 15 | Missed Relationships: 9 | Total Relationships: 24\n",
      "DEBUG:nano-graphrag:Relationships: 12 | Missed Relationships: 9 | Total Relationships: 21\n",
      "DEBUG:nano-graphrag:Relationships: 7 | Missed Relationships: 8 | Total Relationships: 15\n",
      "DEBUG:nano-graphrag:Relationships: 17 | Missed Relationships: 6 | Total Relationships: 23\n",
      "DEBUG:nano-graphrag:Relationships: 10 | Missed Relationships: 6 | Total Relationships: 16\n",
      "DEBUG:nano-graphrag:Relationships: 16 | Missed Relationships: 8 | Total Relationships: 24\n",
      "DEBUG:nano-graphrag:Relationships: 15 | Missed Relationships: 5 | Total Relationships: 20\n",
      "DEBUG:nano-graphrag:Relationships: 19 | Missed Relationships: 5 | Total Relationships: 24\n",
      "DEBUG:nano-graphrag:Relationships: 10 | Missed Relationships: 8 | Total Relationships: 18\n",
      "DEBUG:nano-graphrag:Relationships: 13 | Missed Relationships: 9 | Total Relationships: 22\n",
      "DEBUG:nano-graphrag:Relationships: 22 | Missed Relationships: 10 | Total Relationships: 32\n",
      "DEBUG:nano-graphrag:Direct Relationships: 44 | Second-order: 5 | Third-order: 0 | Total Relationships: 49\n",
      "DEBUG:nano-graphrag:Direct Relationships: 16 | Second-order: 4 | Third-order: 0 | Total Relationships: 20\n",
      "DEBUG:nano-graphrag:Direct Relationships: 38 | Second-order: 0 | Third-order: 0 | Total Relationships: 38\n",
      "DEBUG:nano-graphrag:Direct Relationships: 22 | Second-order: 0 | Third-order: 0 | Total Relationships: 22\n",
      "DEBUG:nano-graphrag:Direct Relationships: 22 | Second-order: 0 | Third-order: 0 | Total Relationships: 22\n",
      "DEBUG:nano-graphrag:Direct Relationships: 24 | Second-order: 0 | Third-order: 0 | Total Relationships: 24\n",
      "DEBUG:nano-graphrag:Direct Relationships: 21 | Second-order: 0 | Third-order: 0 | Total Relationships: 21\n",
      "DEBUG:nano-graphrag:Direct Relationships: 15 | Second-order: 0 | Third-order: 0 | Total Relationships: 15\n",
      "DEBUG:nano-graphrag:Direct Relationships: 23 | Second-order: 0 | Third-order: 0 | Total Relationships: 23\n",
      "DEBUG:nano-graphrag:Direct Relationships: 16 | Second-order: 0 | Third-order: 0 | Total Relationships: 16\n",
      "DEBUG:nano-graphrag:Direct Relationships: 24 | Second-order: 0 | Third-order: 0 | Total Relationships: 24\n",
      "DEBUG:nano-graphrag:Direct Relationships: 17 | Second-order: 3 | Third-order: 0 | Total Relationships: 20\n",
      "DEBUG:nano-graphrag:Direct Relationships: 24 | Second-order: 0 | Third-order: 0 | Total Relationships: 24\n",
      "DEBUG:nano-graphrag:Direct Relationships: 13 | Second-order: 5 | Third-order: 0 | Total Relationships: 18\n",
      "DEBUG:nano-graphrag:Direct Relationships: 22 | Second-order: 0 | Third-order: 0 | Total Relationships: 22\n",
      "DEBUG:nano-graphrag:Direct Relationships: 32 | Second-order: 0 | Third-order: 0 | Total Relationships: 32\n",
      "DEBUG:nano-graphrag:Entities: 10 | Missed Entities: 5 | Total Entities: 15\n",
      "DEBUG:nano-graphrag:Entities: 6 | Missed Entities: 5 | Total Entities: 11\n",
      "DEBUG:nano-graphrag:Entities: 18 | Missed Entities: 15 | Total Entities: 33\n",
      "DEBUG:nano-graphrag:Entities: 15 | Missed Entities: 10 | Total Entities: 25\n",
      "DEBUG:nano-graphrag:Relationships: 11 | Missed Relationships: 5 | Total Relationships: 16\n",
      "DEBUG:nano-graphrag:Relationships: 5 | Missed Relationships: 5 | Total Relationships: 10\n",
      "DEBUG:nano-graphrag:Relationships: 13 | Missed Relationships: 15 | Total Relationships: 28\n",
      "DEBUG:nano-graphrag:Relationships: 16 | Missed Relationships: 10 | Total Relationships: 26\n",
      "DEBUG:nano-graphrag:Direct Relationships: 11 | Second-order: 5 | Third-order: 0 | Total Relationships: 16\n",
      "DEBUG:nano-graphrag:Direct Relationships: 9 | Second-order: 1 | Third-order: 0 | Total Relationships: 10\n",
      "DEBUG:nano-graphrag:Direct Relationships: 28 | Second-order: 0 | Third-order: 0 | Total Relationships: 28\n",
      "DEBUG:nano-graphrag:Direct Relationships: 26 | Second-order: 0 | Third-order: 0 | Total Relationships: 26\n",
      "INFO:nano-graphrag:Saved 20 examples with keys: ['input_text', 'entities', 'relationships']\n"
     ]
    }
   ],
   "source": [
    "train_chunks = {compute_mdhash_id(text, prefix=f\"chunk-\"): {\"content\": text} for text in train_data[\"text\"]}\n",
    "trainset = asyncio.run(generate_dataset(chunks=train_chunks, filepath=entity_relationship_trainset_path))"
   ]
  },
  {
   "cell_type": "code",
   "execution_count": null,
   "metadata": {},
   "outputs": [],
   "source": [
    "for example in trainset:\n",
    "    for relationship in example.relationships.context:\n",
    "        if relationship.order == 2:\n",
    "            print(relationship)"
   ]
  },
  {
   "cell_type": "code",
   "execution_count": null,
   "metadata": {},
   "outputs": [],
   "source": [
    "for example in trainset:\n",
    "    for relationship in example.relationships.context:\n",
    "        if relationship.order == 3:\n",
    "            print(relationship)"
   ]
  },
  {
   "cell_type": "code",
   "execution_count": null,
   "metadata": {},
   "outputs": [],
   "source": [
    "trainset[0].relationships.context[:2]"
   ]
  },
  {
   "cell_type": "code",
   "execution_count": 26,
   "metadata": {},
   "outputs": [
    {
     "name": "stderr",
     "output_type": "stream",
     "text": [
      "DEBUG:nano-graphrag:Entities: 21 | Missed Entities: 14 | Total Entities: 35\n",
      "DEBUG:nano-graphrag:Entities: 10 | Missed Entities: 5 | Total Entities: 15\n",
      "DEBUG:nano-graphrag:Relationships: 22 | Missed Relationships: 14 | Total Relationships: 36\n",
      "DEBUG:nano-graphrag:Relationships: 10 | Missed Relationships: 5 | Total Relationships: 15\n",
      "DEBUG:nano-graphrag:Direct Relationships: 36 | Second-order: 0 | Third-order: 0 | Total Relationships: 36\n",
      "DEBUG:nano-graphrag:Direct Relationships: 12 | Second-order: 3 | Third-order: 0 | Total Relationships: 15\n",
      "INFO:nano-graphrag:Saved 2 examples with keys: ['input_text', 'entities', 'relationships']\n"
     ]
    }
   ],
   "source": [
    "val_chunks = {compute_mdhash_id(text, prefix=f\"chunk-\"): {\"content\": text} for text in val_data[\"text\"]}\n",
    "valset = asyncio.run(generate_dataset(chunks=val_chunks, filepath=entity_relationship_valset_path))"
   ]
  },
  {
   "cell_type": "code",
   "execution_count": 30,
   "metadata": {},
   "outputs": [
    {
     "data": {
      "text/plain": [
       "[Relationship(src_id='PORTUGAL', tgt_id='EURO 2016', description='Portugal qualified for the final of Euro 2016.', weight=0.9, order=1),\n",
       " Relationship(src_id='PORTUGAL', tgt_id='WALES', description='Portugal defeated Wales in the semifinal of Euro 2016.', weight=0.9, order=1)]"
      ]
     },
     "execution_count": 30,
     "metadata": {},
     "output_type": "execute_result"
    }
   ],
   "source": [
    "valset[0].relationships.context[:2]"
   ]
  },
  {
   "cell_type": "code",
   "execution_count": null,
   "metadata": {},
   "outputs": [],
   "source": [
    "for example in valset:\n",
    "    for relationship in example.relationships.context:\n",
    "        if relationship.order == 2:\n",
    "            print(relationship)"
   ]
  },
  {
   "cell_type": "code",
   "execution_count": null,
   "metadata": {},
   "outputs": [],
   "source": [
    "for example in valset:\n",
    "    for relationship in example.relationships.context:\n",
    "        if relationship.order == 3:\n",
    "            print(relationship)"
   ]
  },
  {
   "cell_type": "code",
   "execution_count": 31,
   "metadata": {},
   "outputs": [
    {
     "name": "stderr",
     "output_type": "stream",
     "text": [
      "DEBUG:nano-graphrag:Entities: 27 | Missed Entities: 9 | Total Entities: 36\n",
      "DEBUG:nano-graphrag:Entities: 14 | Missed Entities: 7 | Total Entities: 21\n",
      "DEBUG:nano-graphrag:Entities: 7 | Missed Entities: 4 | Total Entities: 11\n",
      "DEBUG:nano-graphrag:Relationships: 19 | Missed Relationships: 8 | Total Relationships: 27\n",
      "DEBUG:nano-graphrag:Relationships: 14 | Missed Relationships: 8 | Total Relationships: 22\n",
      "DEBUG:nano-graphrag:Relationships: 8 | Missed Relationships: 8 | Total Relationships: 16\n",
      "DEBUG:nano-graphrag:Direct Relationships: 27 | Second-order: 0 | Third-order: 0 | Total Relationships: 27\n",
      "DEBUG:nano-graphrag:Direct Relationships: 18 | Second-order: 4 | Third-order: 0 | Total Relationships: 22\n",
      "DEBUG:nano-graphrag:Direct Relationships: 12 | Second-order: 4 | Third-order: 0 | Total Relationships: 16\n",
      "INFO:nano-graphrag:Saved 3 examples with keys: ['input_text', 'entities', 'relationships']\n"
     ]
    }
   ],
   "source": [
    "dev_chunks = {compute_mdhash_id(text, prefix=f\"chunk-\"): {\"content\": text} for text in dev_data[\"text\"]}\n",
    "devset = asyncio.run(generate_dataset(chunks=dev_chunks, filepath=entity_relationship_devset_path))"
   ]
  },
  {
   "cell_type": "code",
   "execution_count": null,
   "metadata": {},
   "outputs": [],
   "source": [
    "devset[0].relationships.context[:2]"
   ]
  },
  {
   "cell_type": "code",
   "execution_count": null,
   "metadata": {},
   "outputs": [],
   "source": [
    "for example in devset:\n",
    "    for relationship in example.relationships.context:\n",
    "        if relationship.order == 2:\n",
    "            print(relationship)"
   ]
  },
  {
   "cell_type": "code",
   "execution_count": null,
   "metadata": {},
   "outputs": [],
   "source": [
    "for example in devset:\n",
    "    for relationship in example.relationships.context:\n",
    "        if relationship.order == 3:\n",
    "            print(relationship)"
   ]
  },
  {
   "cell_type": "code",
   "execution_count": 33,
   "metadata": {},
   "outputs": [
    {
     "data": {
      "text/plain": [
       "extractor.predictor = Predict(CombinedExtraction(input_text, entity_types -> entities, relationships\n",
       "    instructions='Signature for extracting both entities and relationships from input text.'\n",
       "    input_text = Field(annotation=str required=True json_schema_extra={'desc': 'The text to extract entities and relationships from.', '__dspy_field_type': 'input', 'prefix': 'Input Text:'})\n",
       "    entity_types = Field(annotation=EntityTypes required=True json_schema_extra={'__dspy_field_type': 'input', 'prefix': 'Entity Types:', 'desc': '${entity_types}'})\n",
       "    entities = Field(annotation=Entities required=True json_schema_extra={'desc': '\\n        Format:\\n        {\\n            \"context\": [\\n                {\\n                    \"entity_name\": \"ENTITY NAME\",\\n                    \"entity_type\": \"ENTITY TYPE\",\\n                    \"description\": \"Detailed description\",\\n                    \"importance_score\": 0.8\\n                },\\n                ...\\n            ]\\n        }\\n        Each entity name should be an actual atomic word from the input text. Avoid duplicates and generic terms.\\n        Make sure descriptions are concise and specific, and all entity types are included from the text. \\n        Entities must have an importance score greater than 0.5.\\n        IMPORTANT: Only use entity types from the provided \\'entity_types\\' list. Do not introduce new entity types.\\n        Ensure the output is strictly JSON formatted without any trailing text or comments.\\n        ', '__dspy_field_type': 'output', 'prefix': 'Entities:'})\n",
       "    relationships = Field(annotation=Relationships required=True json_schema_extra={'desc': '\\n        Format:\\n        {\\n            \"context\": [\\n                {\\n                    \"src_id\": \"SOURCE ENTITY\",\\n                    \"tgt_id\": \"TARGET ENTITY\",\\n                    \"description\": \"Detailed description of the relationship\",\\n                    \"weight\": 0.7,\\n                    \"order\": 1  # 1 for direct relationships, 2 for second-order, 3 for third-order, etc.\\n                },\\n                ...\\n            ]\\n        }\\n        Make sure relationships are detailed and specific.\\n        Include direct relationships (order 1) as well as higher-order relationships (order 2 and 3):\\n        - Direct relationships: Immediate connections between entities.\\n        - Second-order relationships: Indirect effects or connections that result from direct relationships.\\n        - Third-order relationships: Further indirect effects that result from second-order relationships.\\n        IMPORTANT: Only include relationships between existing entities from the extracted entities. Do not introduce new entities here.\\n        The \"src_id\" and \"tgt_id\" fields must exactly match entity names from the extracted entities list.\\n        Ensure the output is strictly JSON formatted without any trailing text or comments.\\n        ', '__dspy_field_type': 'output', 'prefix': 'Relationships:'})\n",
       "))\n",
       "self_reflection.predictor = Predict(CombinedSelfReflection(input_text, entity_types, entities, relationships -> missing_entities, missing_relationships\n",
       "    instructions='Signature for combined self-reflection on extracted entities and relationships.\\nSelf-reflection is on the completeness and quality of both the extracted entities and relationships.'\n",
       "    input_text = Field(annotation=str required=True json_schema_extra={'desc': 'The original input text.', '__dspy_field_type': 'input', 'prefix': 'Input Text:'})\n",
       "    entity_types = Field(annotation=EntityTypes required=True json_schema_extra={'__dspy_field_type': 'input', 'prefix': 'Entity Types:', 'desc': '${entity_types}'})\n",
       "    entities = Field(annotation=Entities required=True json_schema_extra={'desc': 'List of extracted entities.', '__dspy_field_type': 'input', 'prefix': 'Entities:'})\n",
       "    relationships = Field(annotation=Relationships required=True json_schema_extra={'desc': 'List of extracted relationships.', '__dspy_field_type': 'input', 'prefix': 'Relationships:'})\n",
       "    missing_entities = Field(annotation=Entities required=True json_schema_extra={'desc': '\\n        Format:\\n        {\\n            \"context\": [\\n                {\\n                    \"entity_name\": \"ENTITY NAME\",\\n                    \"entity_type\": \"ENTITY TYPE\",\\n                    \"description\": \"Detailed description\",\\n                    \"importance_score\": 0.8\\n                },\\n                ...\\n            ]\\n        }\\n        More specifically:\\n        1. Entities mentioned in the text but not captured in the initial extraction.\\n        2. Implicit entities that are crucial to the context but not explicitly mentioned.\\n        3. Entities that belong to the identified entity types but were overlooked.\\n        4. Subtypes or more specific instances of the already extracted entities.\\n        Ensure the output is strictly JSON formatted without any trailing text or comments.\\n        ', '__dspy_field_type': 'output', 'prefix': 'Missing Entities:'})\n",
       "    missing_relationships = Field(annotation=Relationships required=True json_schema_extra={'desc': '\\n        Format:\\n        {\\n            \"context\": [\\n                {\\n                    \"src_id\": \"SOURCE ENTITY\",\\n                    \"tgt_id\": \"TARGET ENTITY\",\\n                    \"description\": \"Detailed description of the relationship\",\\n                    \"weight\": 0.7,\\n                    \"order\": 1  # 1 for direct, 2 for second-order, 3 for third-order\\n                },\\n                ...\\n            ]\\n        }\\n        More specifically:\\n        1. Direct relationships (order 1) between entities that were not captured initially.\\n        2. Second-order relationships (order 2): Indirect effects or connections resulting from direct relationships.\\n        3. Third-order relationships (order 3): Further indirect effects resulting from second-order relationships.\\n        4. Implicit relationships that can be inferred from the context.\\n        5. Hierarchical, causal, or temporal relationships that may have been overlooked.\\n        6. Relationships involving the newly identified missing entities.\\n        Only include relationships between entities in the combined entities list (extracted + missing).\\n        Ensure the output is strictly JSON formatted without any trailing text or comments.\\n        ', '__dspy_field_type': 'output', 'prefix': 'Missing Relationships:'})\n",
       "))"
      ]
     },
     "execution_count": 33,
     "metadata": {},
     "output_type": "execute_result"
    }
   ],
   "source": [
    "model = EntityRelationshipExtractor()\n",
    "model"
   ]
  },
  {
   "cell_type": "code",
   "execution_count": 39,
   "metadata": {},
   "outputs": [
    {
     "name": "stderr",
     "output_type": "stream",
     "text": [
      "DEBUG:nano-graphrag:Entities: 13 | Missed Entities: 10 | Total Entities: 23\n",
      "DEBUG:nano-graphrag:Entities: 22 | Missed Entities: 14 | Total Entities: 36\n",
      "  0%|          | 0/3 [00:00<?, ?it/s]DEBUG:nano-graphrag:Entities: 9 | Missed Entities: 2 | Total Entities: 11\n",
      "DEBUG:nano-graphrag:Relationships: 11 | Missed Relationships: 9 | Total Relationships: 20\n",
      "DEBUG:nano-graphrag:Relationships: 16 | Missed Relationships: 14 | Total Relationships: 30\n",
      "DEBUG:nano-graphrag:Relationships: 9 | Missed Relationships: 3 | Total Relationships: 12\n",
      "DEBUG:nano-graphrag:Direct Relationships: 18 | Second-order: 2 | Third-order: 0 | Total Relationships: 20\n",
      "DEBUG:nano-graphrag:Direct Relationships: 30 | Second-order: 0 | Third-order: 0 | Total Relationships: 30\n",
      "Average Metric: 1.6150793650793651 / 2  (80.8):  33%|███▎      | 1/3 [00:00<00:00, 619.63it/s]DEBUG:nano-graphrag:Direct Relationships: 10 | Second-order: 2 | Third-order: 0 | Total Relationships: 12\n",
      "Average Metric: 2.342352092352092 / 3  (78.1): 100%|██████████| 3/3 [00:00<00:00, 1362.52it/s]\n",
      "INFO:dspy.evaluate.evaluate:\u001b[2m2024-09-12T06:21:47.106398Z\u001b[0m [\u001b[32m\u001b[1minfo     \u001b[0m] \u001b[1mAverage Metric: 2.342352092352092 / 3 (78.1%)\u001b[0m [\u001b[0m\u001b[1m\u001b[34mdspy.evaluate.evaluate\u001b[0m]\u001b[0m \u001b[36mfilename\u001b[0m=\u001b[35mevaluate.py\u001b[0m \u001b[36mlineno\u001b[0m=\u001b[35m203\u001b[0m\n"
     ]
    },
    {
     "data": {
      "text/html": [
       "<style type=\"text/css\">\n",
       "#T_34e56 th {\n",
       "  text-align: left;\n",
       "}\n",
       "#T_34e56 td {\n",
       "  text-align: left;\n",
       "}\n",
       "#T_34e56_row0_col0, #T_34e56_row0_col1, #T_34e56_row0_col2, #T_34e56_row0_col3, #T_34e56_row0_col4, #T_34e56_row0_col5, #T_34e56_row1_col0, #T_34e56_row1_col1, #T_34e56_row1_col2, #T_34e56_row1_col3, #T_34e56_row1_col4, #T_34e56_row1_col5, #T_34e56_row2_col0, #T_34e56_row2_col1, #T_34e56_row2_col2, #T_34e56_row2_col3, #T_34e56_row2_col4, #T_34e56_row2_col5 {\n",
       "  text-align: left;\n",
       "  white-space: pre-wrap;\n",
       "  word-wrap: break-word;\n",
       "  max-width: 400px;\n",
       "}\n",
       "</style>\n",
       "<table id=\"T_34e56\">\n",
       "  <thead>\n",
       "    <tr>\n",
       "      <th class=\"blank level0\" >&nbsp;</th>\n",
       "      <th id=\"T_34e56_level0_col0\" class=\"col_heading level0 col0\" >input_text</th>\n",
       "      <th id=\"T_34e56_level0_col1\" class=\"col_heading level0 col1\" >example_entities</th>\n",
       "      <th id=\"T_34e56_level0_col2\" class=\"col_heading level0 col2\" >example_relationships</th>\n",
       "      <th id=\"T_34e56_level0_col3\" class=\"col_heading level0 col3\" >pred_entities</th>\n",
       "      <th id=\"T_34e56_level0_col4\" class=\"col_heading level0 col4\" >pred_relationships</th>\n",
       "      <th id=\"T_34e56_level0_col5\" class=\"col_heading level0 col5\" >entity_recall_metric</th>\n",
       "    </tr>\n",
       "  </thead>\n",
       "  <tbody>\n",
       "    <tr>\n",
       "      <th id=\"T_34e56_level0_row0\" class=\"row_heading level0 row0\" >0</th>\n",
       "      <td id=\"T_34e56_row0_col0\" class=\"data row0 col0\" >As students from Marjory Stoneman Douglas High School confront lawmakers with demands to restrict sales of assault rifles, there were warnings by the president of...</td>\n",
       "      <td id=\"T_34e56_row0_col1\" class=\"data row0 col1\" >context=[Entity(entity_name='MARJORY STONEMAN DOUGLAS HIGH SCHOOL', entity_type='ORGANIZATION', description='A high school in Florida where a mass shooting occurred.', importance_score=0.9), Entity(entity_name='NIKOLAS CRUZ', entity_type='PERSON', description='The gunman who carried out...</td>\n",
       "      <td id=\"T_34e56_row0_col2\" class=\"data row0 col2\" >context=[Relationship(src_id='MARJORY STONEMAN DOUGLAS HIGH SCHOOL', tgt_id='NIKOLAS CRUZ', description='Nikolas Cruz carried out a mass shooting at Marjory Stoneman Douglas High School.', weight=0.9, order=1), Relationship(src_id='NIKOLAS CRUZ', tgt_id='FLORIDA',...</td>\n",
       "      <td id=\"T_34e56_row0_col3\" class=\"data row0 col3\" >context=[Entity(entity_name='MARJORY STONEMAN DOUGLAS HIGH SCHOOL', entity_type='ORGANIZATION', description='A high school in Florida where a mass shooting occurred.', importance_score=0.9), Entity(entity_name='NIKOLAS CRUZ', entity_type='PERSON', description='The gunman who carried out...</td>\n",
       "      <td id=\"T_34e56_row0_col4\" class=\"data row0 col4\" >context=[Relationship(src_id='NIKOLAS CRUZ', tgt_id='MARJORY STONEMAN DOUGLAS HIGH SCHOOL', description='Nikolas Cruz carried out a mass shooting at Marjory Stoneman Douglas High School.', weight=0.9, order=1), Relationship(src_id='LAURENZO PRADO', tgt_id='MARJORY...</td>\n",
       "      <td id=\"T_34e56_row0_col5\" class=\"data row0 col5\" >✔️ [0.8055555555555556]</td>\n",
       "    </tr>\n",
       "    <tr>\n",
       "      <th id=\"T_34e56_level0_row1\" class=\"row_heading level0 row1\" >1</th>\n",
       "      <td id=\"T_34e56_row1_col0\" class=\"data row1 col0\" >From ferrying people to and from their place of work to transporting nuclear waste and coal, railways are not only an integral part of 21st...</td>\n",
       "      <td id=\"T_34e56_row1_col1\" class=\"data row1 col1\" >context=[Entity(entity_name='RAILWAYS', entity_type='VEHICLE', description='Transportation system used for ferrying people and transporting nuclear waste and coal.', importance_score=0.9), Entity(entity_name='BELGIUM', entity_type='LOCATION', description='Country where a business is looking to innovate...</td>\n",
       "      <td id=\"T_34e56_row1_col2\" class=\"data row1 col2\" >context=[Relationship(src_id='RAILNOVA', tgt_id='BRUSSELS', description='Railnova is based in Brussels.', weight=0.9, order=1), Relationship(src_id='RAILNOVA', tgt_id='DEUTSCHE BAHN', description='Railnova serves Deutsche Bahn as a client.', weight=0.8, order=1), Relationship(src_id='RAILNOVA', tgt_id='SNCF', description='Railnova serves...</td>\n",
       "      <td id=\"T_34e56_row1_col3\" class=\"data row1 col3\" >context=[Entity(entity_name='RAILWAYS', entity_type='VEHICLE', description='A mode of transportation that involves trains running on tracks, used for various purposes including passenger and cargo transport.', importance_score=0.9), Entity(entity_name='BELGIUM', entity_type='LOCATION', description='A...</td>\n",
       "      <td id=\"T_34e56_row1_col4\" class=\"data row1 col4\" >context=[Relationship(src_id='RAILNOVA', tgt_id='DEUTSCHE BAHN', description='Railnova provides innovative technology solutions to Deutsche Bahn, a German railway company.', weight=0.8, order=1), Relationship(src_id='RAILNOVA', tgt_id='SNCF', description='Railnova offers its technology services to...</td>\n",
       "      <td id=\"T_34e56_row1_col5\" class=\"data row1 col5\" >✔️ [0.8095238095238095]</td>\n",
       "    </tr>\n",
       "    <tr>\n",
       "      <th id=\"T_34e56_level0_row2\" class=\"row_heading level0 row2\" >2</th>\n",
       "      <td id=\"T_34e56_row2_col0\" class=\"data row2 col0\" >Jan 22 (Reuters) - Shanghai Stock Exchange Filing * SHOWS BLOCK TRADE OF YONGHUI SUPERSTORES Co LTd's 166.3 MILLION SHARES INVOLVING 1.63 BILLION YUAN ($254.68...</td>\n",
       "      <td id=\"T_34e56_row2_col1\" class=\"data row2 col1\" >context=[Entity(entity_name='YONGHUI SUPERSTORES', entity_type='ORGANIZATION', description='A company involved in a block trade of its shares.', importance_score=0.9), Entity(entity_name='SHANGHAI STOCK EXCHANGE', entity_type='ORGANIZATION', description='The stock exchange where the block trade...</td>\n",
       "      <td id=\"T_34e56_row2_col2\" class=\"data row2 col2\" >context=[Relationship(src_id='YONGHUI SUPERSTORES', tgt_id='SHANGHAI STOCK EXCHANGE', description=\"YONGHUI SUPERSTORES' shares were traded on the SHANGHAI STOCK EXCHANGE.\", weight=0.9, order=1), Relationship(src_id='YONGHUI SUPERSTORES', tgt_id='166.3 MILLION SHARES', description='YONGHUI SUPERSTORES was...</td>\n",
       "      <td id=\"T_34e56_row2_col3\" class=\"data row2 col3\" >context=[Entity(entity_name='YONGHUI SUPERSTORES', entity_type='ORGANIZATION', description='A company involved in a block trade of its shares.', importance_score=0.9), Entity(entity_name='SHANGHAI STOCK EXCHANGE', entity_type='ORGANIZATION', description='The stock exchange where the block trade...</td>\n",
       "      <td id=\"T_34e56_row2_col4\" class=\"data row2 col4\" >context=[Relationship(src_id='YONGHUI SUPERSTORES', tgt_id='166.3 MILLION SHARES', description='YONGHUI SUPERSTORES was involved in a block trade of 166.3 million shares.', weight=0.9, order=1), Relationship(src_id='166.3 MILLION SHARES', tgt_id='1.63 BILLION YUAN',...</td>\n",
       "      <td id=\"T_34e56_row2_col5\" class=\"data row2 col5\" >✔️ [0.7272727272727273]</td>\n",
       "    </tr>\n",
       "  </tbody>\n",
       "</table>\n"
      ],
      "text/plain": [
       "<pandas.io.formats.style.Styler at 0x34f658820>"
      ]
     },
     "metadata": {},
     "output_type": "display_data"
    },
    {
     "name": "stderr",
     "output_type": "stream",
     "text": [
      "DEBUG:nano-graphrag:Entities: 22 | Missed Entities: 14 | Total Entities: 36\n",
      "DEBUG:nano-graphrag:Entities: 13 | Missed Entities: 10 | Total Entities: 23\n",
      "  0%|          | 0/3 [00:00<?, ?it/s]DEBUG:nano-graphrag:Entities: 9 | Missed Entities: 2 | Total Entities: 11\n",
      "DEBUG:nano-graphrag:Relationships: 16 | Missed Relationships: 14 | Total Relationships: 30\n",
      "DEBUG:nano-graphrag:Relationships: 11 | Missed Relationships: 9 | Total Relationships: 20\n",
      "DEBUG:nano-graphrag:Relationships: 9 | Missed Relationships: 3 | Total Relationships: 12\n",
      "DEBUG:nano-graphrag:Direct Relationships: 30 | Second-order: 0 | Third-order: 0 | Total Relationships: 30\n",
      "DEBUG:nano-graphrag:Direct Relationships: 18 | Second-order: 2 | Third-order: 0 | Total Relationships: 20\n",
      "DEBUG:nano-graphrag:Direct Relationships: 10 | Second-order: 2 | Third-order: 0 | Total Relationships: 12\n",
      "\n",
      "\u001b[A\n",
      "\n",
      "Batches: 100%|██████████| 1/1 [00:00<00:00, 39.39it/s]\n",
      "\n",
      "Batches: 100%|██████████| 1/1 [00:00<00:00, 35.07it/s]\n",
      "\n",
      "\n",
      "Batches: 100%|██████████| 1/1 [00:00<00:00, 23.09it/s]\n",
      "Batches: 100%|██████████| 1/1 [00:00<00:00, 38.88it/s]\n",
      "Batches: 100%|██████████| 1/1 [00:00<00:00, 44.18it/s]         | 0/3 [00:00<?, ?it/s]\n",
      "Batches: 100%|██████████| 1/1 [00:00<00:00, 33.06it/s]██▎      | 1/3 [00:00<00:00, 15.61it/s]\n",
      "Average Metric: 2.8107495307922363 / 3  (93.7): 100%|██████████| 3/3 [00:00<00:00, 36.13it/s]\n",
      "INFO:dspy.evaluate.evaluate:\u001b[2m2024-09-12T06:21:47.226791Z\u001b[0m [\u001b[32m\u001b[1minfo     \u001b[0m] \u001b[1mAverage Metric: 2.8107495307922363 / 3 (93.7%)\u001b[0m [\u001b[0m\u001b[1m\u001b[34mdspy.evaluate.evaluate\u001b[0m]\u001b[0m \u001b[36mfilename\u001b[0m=\u001b[35mevaluate.py\u001b[0m \u001b[36mlineno\u001b[0m=\u001b[35m203\u001b[0m\n"
     ]
    },
    {
     "data": {
      "text/html": [
       "<style type=\"text/css\">\n",
       "#T_465ae th {\n",
       "  text-align: left;\n",
       "}\n",
       "#T_465ae td {\n",
       "  text-align: left;\n",
       "}\n",
       "#T_465ae_row0_col0, #T_465ae_row0_col1, #T_465ae_row0_col2, #T_465ae_row0_col3, #T_465ae_row0_col4, #T_465ae_row0_col5, #T_465ae_row1_col0, #T_465ae_row1_col1, #T_465ae_row1_col2, #T_465ae_row1_col3, #T_465ae_row1_col4, #T_465ae_row1_col5, #T_465ae_row2_col0, #T_465ae_row2_col1, #T_465ae_row2_col2, #T_465ae_row2_col3, #T_465ae_row2_col4, #T_465ae_row2_col5 {\n",
       "  text-align: left;\n",
       "  white-space: pre-wrap;\n",
       "  word-wrap: break-word;\n",
       "  max-width: 400px;\n",
       "}\n",
       "</style>\n",
       "<table id=\"T_465ae\">\n",
       "  <thead>\n",
       "    <tr>\n",
       "      <th class=\"blank level0\" >&nbsp;</th>\n",
       "      <th id=\"T_465ae_level0_col0\" class=\"col_heading level0 col0\" >input_text</th>\n",
       "      <th id=\"T_465ae_level0_col1\" class=\"col_heading level0 col1\" >example_entities</th>\n",
       "      <th id=\"T_465ae_level0_col2\" class=\"col_heading level0 col2\" >example_relationships</th>\n",
       "      <th id=\"T_465ae_level0_col3\" class=\"col_heading level0 col3\" >pred_entities</th>\n",
       "      <th id=\"T_465ae_level0_col4\" class=\"col_heading level0 col4\" >pred_relationships</th>\n",
       "      <th id=\"T_465ae_level0_col5\" class=\"col_heading level0 col5\" >relationship_similarity_metric</th>\n",
       "    </tr>\n",
       "  </thead>\n",
       "  <tbody>\n",
       "    <tr>\n",
       "      <th id=\"T_465ae_level0_row0\" class=\"row_heading level0 row0\" >0</th>\n",
       "      <td id=\"T_465ae_row0_col0\" class=\"data row0 col0\" >As students from Marjory Stoneman Douglas High School confront lawmakers with demands to restrict sales of assault rifles, there were warnings by the president of...</td>\n",
       "      <td id=\"T_465ae_row0_col1\" class=\"data row0 col1\" >context=[Entity(entity_name='MARJORY STONEMAN DOUGLAS HIGH SCHOOL', entity_type='ORGANIZATION', description='A high school in Florida where a mass shooting occurred.', importance_score=0.9), Entity(entity_name='NIKOLAS CRUZ', entity_type='PERSON', description='The gunman who carried out...</td>\n",
       "      <td id=\"T_465ae_row0_col2\" class=\"data row0 col2\" >context=[Relationship(src_id='MARJORY STONEMAN DOUGLAS HIGH SCHOOL', tgt_id='NIKOLAS CRUZ', description='Nikolas Cruz carried out a mass shooting at Marjory Stoneman Douglas High School.', weight=0.9, order=1), Relationship(src_id='NIKOLAS CRUZ', tgt_id='FLORIDA',...</td>\n",
       "      <td id=\"T_465ae_row0_col3\" class=\"data row0 col3\" >context=[Entity(entity_name='MARJORY STONEMAN DOUGLAS HIGH SCHOOL', entity_type='ORGANIZATION', description='A high school in Florida where a mass shooting occurred.', importance_score=0.9), Entity(entity_name='NIKOLAS CRUZ', entity_type='PERSON', description='The gunman who carried out...</td>\n",
       "      <td id=\"T_465ae_row0_col4\" class=\"data row0 col4\" >context=[Relationship(src_id='NIKOLAS CRUZ', tgt_id='MARJORY STONEMAN DOUGLAS HIGH SCHOOL', description='Nikolas Cruz carried out a mass shooting at Marjory Stoneman Douglas High School.', weight=0.9, order=1), Relationship(src_id='LAURENZO PRADO', tgt_id='MARJORY...</td>\n",
       "      <td id=\"T_465ae_row0_col5\" class=\"data row0 col5\" >✔️ [0.946203351020813]</td>\n",
       "    </tr>\n",
       "    <tr>\n",
       "      <th id=\"T_465ae_level0_row1\" class=\"row_heading level0 row1\" >1</th>\n",
       "      <td id=\"T_465ae_row1_col0\" class=\"data row1 col0\" >From ferrying people to and from their place of work to transporting nuclear waste and coal, railways are not only an integral part of 21st...</td>\n",
       "      <td id=\"T_465ae_row1_col1\" class=\"data row1 col1\" >context=[Entity(entity_name='RAILWAYS', entity_type='VEHICLE', description='Transportation system used for ferrying people and transporting nuclear waste and coal.', importance_score=0.9), Entity(entity_name='BELGIUM', entity_type='LOCATION', description='Country where a business is looking to innovate...</td>\n",
       "      <td id=\"T_465ae_row1_col2\" class=\"data row1 col2\" >context=[Relationship(src_id='RAILNOVA', tgt_id='BRUSSELS', description='Railnova is based in Brussels.', weight=0.9, order=1), Relationship(src_id='RAILNOVA', tgt_id='DEUTSCHE BAHN', description='Railnova serves Deutsche Bahn as a client.', weight=0.8, order=1), Relationship(src_id='RAILNOVA', tgt_id='SNCF', description='Railnova serves...</td>\n",
       "      <td id=\"T_465ae_row1_col3\" class=\"data row1 col3\" >context=[Entity(entity_name='RAILWAYS', entity_type='VEHICLE', description='A mode of transportation that involves trains running on tracks, used for various purposes including passenger and cargo transport.', importance_score=0.9), Entity(entity_name='BELGIUM', entity_type='LOCATION', description='A...</td>\n",
       "      <td id=\"T_465ae_row1_col4\" class=\"data row1 col4\" >context=[Relationship(src_id='RAILNOVA', tgt_id='DEUTSCHE BAHN', description='Railnova provides innovative technology solutions to Deutsche Bahn, a German railway company.', weight=0.8, order=1), Relationship(src_id='RAILNOVA', tgt_id='SNCF', description='Railnova offers its technology services to...</td>\n",
       "      <td id=\"T_465ae_row1_col5\" class=\"data row1 col5\" >✔️ [0.9310485124588013]</td>\n",
       "    </tr>\n",
       "    <tr>\n",
       "      <th id=\"T_465ae_level0_row2\" class=\"row_heading level0 row2\" >2</th>\n",
       "      <td id=\"T_465ae_row2_col0\" class=\"data row2 col0\" >Jan 22 (Reuters) - Shanghai Stock Exchange Filing * SHOWS BLOCK TRADE OF YONGHUI SUPERSTORES Co LTd's 166.3 MILLION SHARES INVOLVING 1.63 BILLION YUAN ($254.68...</td>\n",
       "      <td id=\"T_465ae_row2_col1\" class=\"data row2 col1\" >context=[Entity(entity_name='YONGHUI SUPERSTORES', entity_type='ORGANIZATION', description='A company involved in a block trade of its shares.', importance_score=0.9), Entity(entity_name='SHANGHAI STOCK EXCHANGE', entity_type='ORGANIZATION', description='The stock exchange where the block trade...</td>\n",
       "      <td id=\"T_465ae_row2_col2\" class=\"data row2 col2\" >context=[Relationship(src_id='YONGHUI SUPERSTORES', tgt_id='SHANGHAI STOCK EXCHANGE', description=\"YONGHUI SUPERSTORES' shares were traded on the SHANGHAI STOCK EXCHANGE.\", weight=0.9, order=1), Relationship(src_id='YONGHUI SUPERSTORES', tgt_id='166.3 MILLION SHARES', description='YONGHUI SUPERSTORES was...</td>\n",
       "      <td id=\"T_465ae_row2_col3\" class=\"data row2 col3\" >context=[Entity(entity_name='YONGHUI SUPERSTORES', entity_type='ORGANIZATION', description='A company involved in a block trade of its shares.', importance_score=0.9), Entity(entity_name='SHANGHAI STOCK EXCHANGE', entity_type='ORGANIZATION', description='The stock exchange where the block trade...</td>\n",
       "      <td id=\"T_465ae_row2_col4\" class=\"data row2 col4\" >context=[Relationship(src_id='YONGHUI SUPERSTORES', tgt_id='166.3 MILLION SHARES', description='YONGHUI SUPERSTORES was involved in a block trade of 166.3 million shares.', weight=0.9, order=1), Relationship(src_id='166.3 MILLION SHARES', tgt_id='1.63 BILLION YUAN',...</td>\n",
       "      <td id=\"T_465ae_row2_col5\" class=\"data row2 col5\" >✔️ [0.9334976673126221]</td>\n",
       "    </tr>\n",
       "  </tbody>\n",
       "</table>\n"
      ],
      "text/plain": [
       "<pandas.io.formats.style.Styler at 0x34f54f5e0>"
      ]
     },
     "metadata": {},
     "output_type": "display_data"
    }
   ],
   "source": [
    "metrics = [entity_recall_metric, relationship_similarity_metric]\n",
    "for metric in metrics:\n",
    "    evaluate = Evaluate(\n",
    "        devset=devset, \n",
    "        metric=metric, \n",
    "        num_threads=os.cpu_count(), \n",
    "        display_progress=True,\n",
    "        display_table=5,\n",
    "    )\n",
    "    evaluate(model)"
   ]
  },
  {
   "cell_type": "code",
   "execution_count": null,
   "metadata": {},
   "outputs": [],
   "source": [
    "optimizer = BootstrapFewShotWithRandomSearch(\n",
    "    metric=relationship_similarity_metric, \n",
    "    num_threads=os.cpu_count(),\n",
    "    num_candidate_programs=4,\n",
    "    max_labeled_demos=5,\n",
    "    max_bootstrapped_demos=3,\n",
    ")\n",
    "rs_model = optimizer.compile(model, trainset=trainset, valset=valset)\n",
    "rs_model"
   ]
  },
  {
   "cell_type": "code",
   "execution_count": null,
   "metadata": {},
   "outputs": [],
   "source": [
    "metrics = [entity_recall_metric, relationship_similarity_metric]\n",
    "for metric in metrics:\n",
    "    evaluate = Evaluate(\n",
    "        devset=devset, \n",
    "        metric=metric, \n",
    "        num_threads=os.cpu_count(), \n",
    "        display_progress=True,\n",
    "        display_table=5,\n",
    "    )\n",
    "    evaluate(rs_model)"
   ]
  },
  {
   "cell_type": "code",
   "execution_count": null,
   "metadata": {},
   "outputs": [],
   "source": [
    "optimizer = MIPROv2(\n",
    "    prompt_model=lm,\n",
    "    task_model=llama_lm,\n",
    "    metric=relationship_similarity_metric,\n",
    "    init_temperature=1.0,\n",
    "    num_candidates=4\n",
    ")\n",
    "miprov2_model = optimizer.compile(model, trainset=trainset, valset=valset, num_batches=5, max_labeled_demos=5, max_bootstrapped_demos=3)\n",
    "miprov2_model"
   ]
  },
  {
   "cell_type": "code",
   "execution_count": null,
   "metadata": {},
   "outputs": [],
   "source": [
    "metrics = [entity_recall_metric, relationship_similarity_metric]\n",
    "for metric in metrics:\n",
    "    evaluate = Evaluate(\n",
    "        devset=devset, \n",
    "        metric=metric, \n",
    "        num_threads=os.cpu_count(), \n",
    "        display_progress=True,\n",
    "        display_table=5,\n",
    "    )\n",
    "    evaluate(miprov2_model)"
   ]
  }
 ],
 "metadata": {
  "kernelspec": {
   "display_name": "nano-graphrag",
   "language": "python",
   "name": "python3"
  },
  "language_info": {
   "codemirror_mode": {
    "name": "ipython",
    "version": 3
   },
   "file_extension": ".py",
   "mimetype": "text/x-python",
   "name": "python",
   "nbconvert_exporter": "python",
   "pygments_lexer": "ipython3",
   "version": "3.10.14"
  }
 },
 "nbformat": 4,
 "nbformat_minor": 2
}
