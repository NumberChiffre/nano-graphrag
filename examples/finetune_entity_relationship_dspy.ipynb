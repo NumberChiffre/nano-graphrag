{
 "cells": [
  {
   "cell_type": "code",
   "execution_count": null,
   "metadata": {},
   "outputs": [],
   "source": [
    "import nest_asyncio\n",
    "nest_asyncio.apply()"
   ]
  },
  {
   "cell_type": "code",
   "execution_count": null,
   "metadata": {},
   "outputs": [],
   "source": [
    "import dspy\n",
    "import asyncio\n",
    "import os\n",
    "from dotenv import load_dotenv\n",
    "from datasets import load_dataset\n",
    "import logging\n",
    "\n",
    "from nano_graphrag._utils import compute_mdhash_id\n",
    "from nano_graphrag.entity_extraction.extract import generate_dataset, compile_model\n",
    "from nano_graphrag.entity_extraction.module import EntityRelationshipExtractor"
   ]
  },
  {
   "cell_type": "code",
   "execution_count": null,
   "metadata": {},
   "outputs": [],
   "source": [
    "WORKING_DIR = \"./nano_graphrag_cache_finetune_entity_relationship_dspy\"\n",
    "\n",
    "load_dotenv()\n",
    "\n",
    "logging.basicConfig(level=logging.WARNING)\n",
    "logging.getLogger(\"nano-graphrag\").setLevel(logging.DEBUG)"
   ]
  },
  {
   "cell_type": "code",
   "execution_count": null,
   "metadata": {},
   "outputs": [],
   "source": [
    "system_prompt = \"\"\"\n",
    "    You are a world-class AI system, capable of complex reasoning and reflection. \n",
    "    Reason through the query, and then provide your final response. \n",
    "    If you detect that you made a mistake in your reasoning at any point, correct yourself.\n",
    "    Think carefully.\n",
    "\"\"\"\n",
    "lm = dspy.OpenAI(\n",
    "    model=\"deepseek-chat\", \n",
    "    model_type=\"chat\", \n",
    "    api_key=os.environ[\"DEEPSEEK_API_KEY\"], \n",
    "    base_url=os.environ[\"DEEPSEEK_BASE_URL\"], \n",
    "    system_prompt=system_prompt, \n",
    "    temperature=0.3,\n",
    "    top_p=1.0,\n",
    "    max_tokens=4096\n",
    ")\n",
    "dspy.settings.configure(lm=lm)"
   ]
  },
  {
   "cell_type": "code",
   "execution_count": null,
   "metadata": {},
   "outputs": [],
   "source": [
    "os.makedirs(WORKING_DIR, exist_ok=True)\n",
    "train_len = 20\n",
    "entity_relationship_dataset_path = os.path.join(WORKING_DIR, \"entity_relationship_extraction_news.pkl\")\n",
    "entity_relationship_module_path = os.path.join(WORKING_DIR, \"entity_relationship_extraction_news.json\")\n",
    "ds = load_dataset(\"ashraq/financial-news-articles\")\n",
    "train_data = ds['train'][-train_len:]"
   ]
  },
  {
   "cell_type": "code",
   "execution_count": null,
   "metadata": {},
   "outputs": [],
   "source": [
    "train_data['text'][-1]"
   ]
  },
  {
   "cell_type": "code",
   "execution_count": null,
   "metadata": {},
   "outputs": [],
   "source": [
    "chunks = {compute_mdhash_id(text, prefix=f\"chunk-\"): {\"content\": text} for text in train_data[\"text\"]}\n",
    "dataset = asyncio.run(generate_dataset(chunks=chunks, filepath=entity_relationship_dataset_path))"
   ]
  },
  {
   "cell_type": "code",
   "execution_count": null,
   "metadata": {},
   "outputs": [],
   "source": [
    "dataset[0]"
   ]
  },
  {
   "cell_type": "code",
   "execution_count": null,
   "metadata": {},
   "outputs": [],
   "source": [
    "dataset[0].relationships.context"
   ]
  },
  {
   "cell_type": "code",
   "execution_count": null,
   "metadata": {},
   "outputs": [],
   "source": [
    "model = EntityRelationshipExtractor()\n",
    "model"
   ]
  },
  {
   "cell_type": "code",
   "execution_count": null,
   "metadata": {},
   "outputs": [],
   "source": [
    "optimized_model = compile_model(\n",
    "    model=model,\n",
    "    dataset_path=entity_relationship_dataset_path,\n",
    "    module_path=entity_relationship_module_path\n",
    ")\n",
    "optimized_model"
   ]
  }
 ],
 "metadata": {
  "kernelspec": {
   "display_name": "nano-graphrag",
   "language": "python",
   "name": "python3"
  },
  "language_info": {
   "codemirror_mode": {
    "name": "ipython",
    "version": 3
   },
   "file_extension": ".py",
   "mimetype": "text/x-python",
   "name": "python",
   "nbconvert_exporter": "python",
   "pygments_lexer": "ipython3",
   "version": "3.10.14"
  }
 },
 "nbformat": 4,
 "nbformat_minor": 2
}
