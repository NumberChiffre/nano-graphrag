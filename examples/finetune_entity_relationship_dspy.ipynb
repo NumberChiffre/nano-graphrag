{
 "cells": [
  {
   "cell_type": "code",
   "execution_count": null,
   "metadata": {},
   "outputs": [],
   "source": [
    "import nest_asyncio\n",
    "nest_asyncio.apply()"
   ]
  },
  {
   "cell_type": "code",
   "execution_count": null,
   "metadata": {},
   "outputs": [],
   "source": [
    "import dspy\n",
    "from dspy.teleprompt.mipro_optimizer_v2 import MIPROv2\n",
    "from dspy.evaluate import Evaluate\n",
    "import asyncio\n",
    "import os\n",
    "import numpy as np\n",
    "from dotenv import load_dotenv\n",
    "from datasets import load_dataset\n",
    "import logging\n",
    "\n",
    "from nano_graphrag._utils import compute_mdhash_id\n",
    "from nano_graphrag.entity_extraction.extract import generate_dataset\n",
    "from nano_graphrag.entity_extraction.module import EntityRelationshipExtractor\n",
    "from nano_graphrag.entity_extraction.metric import relationship_recall_metric, relationship_similarity_metric, entity_recall_metric"
   ]
  },
  {
   "cell_type": "code",
   "execution_count": null,
   "metadata": {},
   "outputs": [],
   "source": [
    "WORKING_DIR = \"./nano_graphrag_cache_finetune_entity_relationship_dspy\"\n",
    "\n",
    "load_dotenv()\n",
    "\n",
    "logging.basicConfig(level=logging.WARNING)\n",
    "logging.getLogger(\"nano-graphrag\").setLevel(logging.DEBUG)\n",
    "\n",
    "np.random.seed(1337)"
   ]
  },
  {
   "cell_type": "code",
   "execution_count": null,
   "metadata": {},
   "outputs": [],
   "source": [
    "system_prompt = \"\"\"\n",
    "    You are a world-class AI system, capable of complex reasoning and reflection. \n",
    "    Reason through the query, and then provide your final response. \n",
    "    If you detect that you made a mistake in your reasoning at any point, correct yourself.\n",
    "    Think carefully.\n",
    "\"\"\"\n",
    "lm = dspy.OpenAI(\n",
    "    model=\"deepseek-chat\", \n",
    "    model_type=\"chat\", \n",
    "    api_key=os.environ[\"DEEPSEEK_API_KEY\"], \n",
    "    base_url=os.environ[\"DEEPSEEK_BASE_URL\"], \n",
    "    system_prompt=system_prompt, \n",
    "    temperature=0.3,\n",
    "    top_p=1.0,\n",
    "    max_tokens=4096\n",
    ")\n",
    "llama_lm = dspy.OllamaLocal(\n",
    "    model=\"llama3.1\", \n",
    "    model_type=\"chat\",\n",
    "    system=system_prompt,\n",
    "    max_tokens=4096\n",
    ")\n",
    "dspy.settings.configure(lm=lm)"
   ]
  },
  {
   "cell_type": "code",
   "execution_count": null,
   "metadata": {},
   "outputs": [],
   "source": [
    "os.makedirs(WORKING_DIR, exist_ok=True)\n",
    "train_len = 20\n",
    "val_len = 2\n",
    "dev_len = 3\n",
    "entity_relationship_trainset_path = os.path.join(WORKING_DIR, \"entity_relationship_extraction_news_trainset.pkl\")\n",
    "entity_relationship_valset_path = os.path.join(WORKING_DIR, \"entity_relationship_extraction_news_valset.pkl\")\n",
    "entity_relationship_devset_path = os.path.join(WORKING_DIR, \"entity_relationship_extraction_news_devset.pkl\")\n",
    "entity_relationship_module_path = os.path.join(WORKING_DIR, \"entity_relationship_extraction_news.json\")\n",
    "fin_news = load_dataset(\"ashraq/financial-news-articles\")\n",
    "cnn_news = load_dataset(\"AyoubChLin/CNN_News_Articles_2011-2022\")\n",
    "fin_shuffled_indices = np.random.permutation(len(fin_news['train']))\n",
    "cnn_train_shuffled_indices = np.random.permutation(len(cnn_news['train']))\n",
    "cnn_test_shuffled_indices = np.random.permutation(len(cnn_news['test']))\n",
    "train_data = cnn_news['train'].select(cnn_train_shuffled_indices[:train_len])\n",
    "val_data = cnn_news['test'].select(cnn_test_shuffled_indices[:val_len])\n",
    "dev_data = fin_news['train'].select(fin_shuffled_indices[:dev_len])"
   ]
  },
  {
   "cell_type": "code",
   "execution_count": null,
   "metadata": {},
   "outputs": [],
   "source": [
    "train_data['text'][:2]"
   ]
  },
  {
   "cell_type": "code",
   "execution_count": null,
   "metadata": {},
   "outputs": [],
   "source": [
    "val_data['text']"
   ]
  },
  {
   "cell_type": "code",
   "execution_count": null,
   "metadata": {},
   "outputs": [],
   "source": [
    "dev_data['text'][:2]"
   ]
  },
  {
   "cell_type": "code",
   "execution_count": null,
   "metadata": {},
   "outputs": [],
   "source": [
    "train_chunks = {compute_mdhash_id(text, prefix=f\"chunk-\"): {\"content\": text} for text in train_data[\"text\"]}\n",
    "trainset = asyncio.run(generate_dataset(chunks=train_chunks, filepath=entity_relationship_trainset_path))"
   ]
  },
  {
   "cell_type": "code",
   "execution_count": null,
   "metadata": {},
   "outputs": [],
   "source": [
    "for example in trainset:\n",
    "    for relationship in example.relationships.context:\n",
    "        if relationship.order == 2:\n",
    "            print(relationship)"
   ]
  },
  {
   "cell_type": "code",
   "execution_count": null,
   "metadata": {},
   "outputs": [],
   "source": [
    "for example in trainset:\n",
    "    for relationship in example.relationships.context:\n",
    "        if relationship.order == 3:\n",
    "            print(relationship)"
   ]
  },
  {
   "cell_type": "code",
   "execution_count": null,
   "metadata": {},
   "outputs": [],
   "source": [
    "trainset[0].relationships.context[:2]"
   ]
  },
  {
   "cell_type": "code",
   "execution_count": null,
   "metadata": {},
   "outputs": [],
   "source": [
    "val_chunks = {compute_mdhash_id(text, prefix=f\"chunk-\"): {\"content\": text} for text in val_data[\"text\"]}\n",
    "valset = asyncio.run(generate_dataset(chunks=val_chunks, filepath=entity_relationship_valset_path))"
   ]
  },
  {
   "cell_type": "code",
   "execution_count": null,
   "metadata": {},
   "outputs": [],
   "source": [
    "valset[0].relationships.context[:2]"
   ]
  },
  {
   "cell_type": "code",
   "execution_count": null,
   "metadata": {},
   "outputs": [],
   "source": [
    "for example in valset:\n",
    "    for relationship in example.relationships.context:\n",
    "        if relationship.order == 2:\n",
    "            print(relationship)"
   ]
  },
  {
   "cell_type": "code",
   "execution_count": null,
   "metadata": {},
   "outputs": [],
   "source": [
    "for example in valset:\n",
    "    for relationship in example.relationships.context:\n",
    "        if relationship.order == 3:\n",
    "            print(relationship)"
   ]
  },
  {
   "cell_type": "code",
   "execution_count": null,
   "metadata": {},
   "outputs": [],
   "source": [
    "dev_chunks = {compute_mdhash_id(text, prefix=f\"chunk-\"): {\"content\": text} for text in dev_data[\"text\"]}\n",
    "devset = asyncio.run(generate_dataset(chunks=dev_chunks, filepath=entity_relationship_devset_path))"
   ]
  },
  {
   "cell_type": "code",
   "execution_count": null,
   "metadata": {},
   "outputs": [],
   "source": [
    "devset[0].relationships.context[:2]"
   ]
  },
  {
   "cell_type": "code",
   "execution_count": null,
   "metadata": {},
   "outputs": [],
   "source": [
    "for example in devset:\n",
    "    for relationship in example.relationships.context:\n",
    "        if relationship.order == 2:\n",
    "            print(relationship)"
   ]
  },
  {
   "cell_type": "code",
   "execution_count": null,
   "metadata": {},
   "outputs": [],
   "source": [
    "for example in devset:\n",
    "    for relationship in example.relationships.context:\n",
    "        if relationship.order == 3:\n",
    "            print(relationship)"
   ]
  },
  {
   "cell_type": "code",
   "execution_count": null,
   "metadata": {},
   "outputs": [],
   "source": [
    "model = EntityRelationshipExtractor()\n",
    "model"
   ]
  },
  {
   "cell_type": "code",
   "execution_count": null,
   "metadata": {},
   "outputs": [],
   "source": [
    "metrics = [relationship_recall_metric, entity_recall_metric, relationship_similarity_metric]\n",
    "for metric in metrics:\n",
    "    evaluate = Evaluate(\n",
    "        devset=devset, \n",
    "        metric=metric, \n",
    "        num_threads=os.cpu_count(), \n",
    "        display_progress=True,\n",
    "        display_table=5,\n",
    "    )\n",
    "    evaluate(model)"
   ]
  },
  {
   "cell_type": "code",
   "execution_count": null,
   "metadata": {},
   "outputs": [],
   "source": [
    "optimizer = MIPROv2(\n",
    "    prompt_model=lm,\n",
    "    task_model=llama_lm,\n",
    "    metric=relationship_recall_metric,\n",
    "    init_temperature=0.7,\n",
    "    num_candidates=4\n",
    ")\n",
    "optimized_model = optimizer.compile(model, trainset=trainset, valset=valset, num_batches=5, max_labeled_demos=5, max_bootstrapped_demos=3)\n",
    "optimized_model"
   ]
  },
  {
   "cell_type": "code",
   "execution_count": null,
   "metadata": {},
   "outputs": [],
   "source": [
    "metrics = [relationship_recall_metric, entity_recall_metric, relationship_similarity_metric]\n",
    "for metric in metrics:\n",
    "    evaluate = Evaluate(\n",
    "        devset=devset, \n",
    "        metric=metric, \n",
    "        num_threads=os.cpu_count(), \n",
    "        display_progress=True,\n",
    "        display_table=5,\n",
    "    )\n",
    "    evaluate(optimized_model)"
   ]
  }
 ],
 "metadata": {
  "kernelspec": {
   "display_name": "nano-graphrag",
   "language": "python",
   "name": "python3"
  },
  "language_info": {
   "codemirror_mode": {
    "name": "ipython",
    "version": 3
   },
   "file_extension": ".py",
   "mimetype": "text/x-python",
   "name": "python",
   "nbconvert_exporter": "python",
   "pygments_lexer": "ipython3",
   "version": "3.10.14"
  }
 },
 "nbformat": 4,
 "nbformat_minor": 2
}
